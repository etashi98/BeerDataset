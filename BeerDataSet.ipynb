{
 "cells": [
  {
   "cell_type": "code",
   "execution_count": 172,
   "metadata": {},
   "outputs": [],
   "source": [
    "import pandas as pd\n",
    "import numpy as np\n",
    "import matplotlib.pyplot as plt\n",
    "import seaborn as sb\n",
    "import gensim\n",
    "import string\n",
    "import spacy\n",
    "en = spacy.load('en_core_web_sm')\n",
    "stopwords = list(en.Defaults.stop_words)\n",
    "from datetime import datetime\n",
    "from sklearn.feature_extraction.text import CountVectorizer, TfidfVectorizer\n",
    "from sklearn.cluster import KMeans\n",
    "from nltk.stem import PorterStemmer\n",
    "from nltk.tokenize import word_tokenize"
   ]
  },
  {
   "cell_type": "markdown",
   "metadata": {},
   "source": [
    "## Loading Data"
   ]
  },
  {
   "cell_type": "code",
   "execution_count": 2,
   "metadata": {},
   "outputs": [
    {
     "data": {
      "text/html": [
       "<div>\n",
       "<style scoped>\n",
       "    .dataframe tbody tr th:only-of-type {\n",
       "        vertical-align: middle;\n",
       "    }\n",
       "\n",
       "    .dataframe tbody tr th {\n",
       "        vertical-align: top;\n",
       "    }\n",
       "\n",
       "    .dataframe thead th {\n",
       "        text-align: right;\n",
       "    }\n",
       "</style>\n",
       "<table border=\"1\" class=\"dataframe\">\n",
       "  <thead>\n",
       "    <tr style=\"text-align: right;\">\n",
       "      <th></th>\n",
       "      <th>beer_ABV</th>\n",
       "      <th>beer_beerId</th>\n",
       "      <th>beer_brewerId</th>\n",
       "      <th>beer_name</th>\n",
       "      <th>beer_style</th>\n",
       "      <th>review_appearance</th>\n",
       "      <th>review_palette</th>\n",
       "      <th>review_overall</th>\n",
       "      <th>review_taste</th>\n",
       "      <th>review_profileName</th>\n",
       "      <th>review_aroma</th>\n",
       "      <th>review_text</th>\n",
       "      <th>review_time</th>\n",
       "    </tr>\n",
       "  </thead>\n",
       "  <tbody>\n",
       "    <tr>\n",
       "      <th>0</th>\n",
       "      <td>5.0</td>\n",
       "      <td>47986</td>\n",
       "      <td>10325</td>\n",
       "      <td>Sausa Weizen</td>\n",
       "      <td>Hefeweizen</td>\n",
       "      <td>2.5</td>\n",
       "      <td>2.0</td>\n",
       "      <td>1.5</td>\n",
       "      <td>1.5</td>\n",
       "      <td>stcules</td>\n",
       "      <td>1.5</td>\n",
       "      <td>A lot of foam. But a lot. In the smell some ba...</td>\n",
       "      <td>1.234818e+09</td>\n",
       "    </tr>\n",
       "    <tr>\n",
       "      <th>1</th>\n",
       "      <td>6.2</td>\n",
       "      <td>48213</td>\n",
       "      <td>10325</td>\n",
       "      <td>Red Moon</td>\n",
       "      <td>English Strong Ale</td>\n",
       "      <td>3.0</td>\n",
       "      <td>2.5</td>\n",
       "      <td>3.0</td>\n",
       "      <td>3</td>\n",
       "      <td>stcules</td>\n",
       "      <td>3</td>\n",
       "      <td>Dark red color, light beige foam, average. In ...</td>\n",
       "      <td>1.235915e+09</td>\n",
       "    </tr>\n",
       "    <tr>\n",
       "      <th>2</th>\n",
       "      <td>6.5</td>\n",
       "      <td>48215</td>\n",
       "      <td>10325</td>\n",
       "      <td>Black Horse Black Beer</td>\n",
       "      <td>Foreign / Export Stout</td>\n",
       "      <td>3.0</td>\n",
       "      <td>2.5</td>\n",
       "      <td>3.0</td>\n",
       "      <td>3</td>\n",
       "      <td>stcules</td>\n",
       "      <td>3</td>\n",
       "      <td>Almost totally black. Beige foam, quite compac...</td>\n",
       "      <td>1.235917e+09</td>\n",
       "    </tr>\n",
       "    <tr>\n",
       "      <th>3</th>\n",
       "      <td>5.0</td>\n",
       "      <td>47969</td>\n",
       "      <td>10325</td>\n",
       "      <td>Sausa Pils</td>\n",
       "      <td>German Pilsener</td>\n",
       "      <td>3.5</td>\n",
       "      <td>3.0</td>\n",
       "      <td>3.0</td>\n",
       "      <td>2.5</td>\n",
       "      <td>stcules</td>\n",
       "      <td>3</td>\n",
       "      <td>Golden yellow color. White, compact foam, quit...</td>\n",
       "      <td>1.234725e+09</td>\n",
       "    </tr>\n",
       "    <tr>\n",
       "      <th>4</th>\n",
       "      <td>7.7</td>\n",
       "      <td>64883</td>\n",
       "      <td>1075</td>\n",
       "      <td>Cauldron DIPA</td>\n",
       "      <td>American Double / Imperial IPA</td>\n",
       "      <td>4.0</td>\n",
       "      <td>4.5</td>\n",
       "      <td>4.0</td>\n",
       "      <td>4</td>\n",
       "      <td>johnmichaelsen</td>\n",
       "      <td>4.5</td>\n",
       "      <td>According to the website, the style for the Ca...</td>\n",
       "      <td>1.293735e+09</td>\n",
       "    </tr>\n",
       "  </tbody>\n",
       "</table>\n",
       "</div>"
      ],
      "text/plain": [
       "   beer_ABV  beer_beerId  beer_brewerId               beer_name  \\\n",
       "0       5.0        47986          10325            Sausa Weizen   \n",
       "1       6.2        48213          10325                Red Moon   \n",
       "2       6.5        48215          10325  Black Horse Black Beer   \n",
       "3       5.0        47969          10325              Sausa Pils   \n",
       "4       7.7        64883           1075           Cauldron DIPA   \n",
       "\n",
       "                       beer_style  review_appearance  review_palette  \\\n",
       "0                      Hefeweizen                2.5             2.0   \n",
       "1              English Strong Ale                3.0             2.5   \n",
       "2          Foreign / Export Stout                3.0             2.5   \n",
       "3                 German Pilsener                3.5             3.0   \n",
       "4  American Double / Imperial IPA                4.0             4.5   \n",
       "\n",
       "   review_overall review_taste review_profileName review_aroma  \\\n",
       "0             1.5          1.5            stcules          1.5   \n",
       "1             3.0            3            stcules            3   \n",
       "2             3.0            3            stcules            3   \n",
       "3             3.0          2.5            stcules            3   \n",
       "4             4.0            4     johnmichaelsen          4.5   \n",
       "\n",
       "                                         review_text   review_time  \n",
       "0  A lot of foam. But a lot. In the smell some ba...  1.234818e+09  \n",
       "1  Dark red color, light beige foam, average. In ...  1.235915e+09  \n",
       "2  Almost totally black. Beige foam, quite compac...  1.235917e+09  \n",
       "3  Golden yellow color. White, compact foam, quit...  1.234725e+09  \n",
       "4  According to the website, the style for the Ca...  1.293735e+09  "
      ]
     },
     "execution_count": 2,
     "metadata": {},
     "output_type": "execute_result"
    }
   ],
   "source": [
    "beer_data = pd.read_csv('BeerDataScienceProject.csv', encoding_errors='ignore')\n",
    "beer_data.head()"
   ]
  },
  {
   "cell_type": "code",
   "execution_count": 168,
   "metadata": {},
   "outputs": [
    {
     "data": {
      "text/plain": [
       "beer_ABV                 283\n",
       "beer_beerId            14938\n",
       "beer_brewerId           1604\n",
       "beer_name              13976\n",
       "beer_style               104\n",
       "review_appearance         10\n",
       "review_palette             9\n",
       "review_overall            10\n",
       "review_taste               9\n",
       "review_profileName     22548\n",
       "review_aroma               9\n",
       "review_text           507238\n",
       "review_time           506713\n",
       "dtype: int64"
      ]
     },
     "execution_count": 168,
     "metadata": {},
     "output_type": "execute_result"
    }
   ],
   "source": [
    "beer_data.nunique()"
   ]
  },
  {
   "cell_type": "markdown",
   "metadata": {},
   "source": [
    "# Checking null values "
   ]
  },
  {
   "cell_type": "code",
   "execution_count": 3,
   "metadata": {},
   "outputs": [
    {
     "data": {
      "text/plain": [
       "beer_ABV              20280\n",
       "beer_beerId               0\n",
       "beer_brewerId             0\n",
       "beer_name                 0\n",
       "beer_style                0\n",
       "review_appearance         0\n",
       "review_palette            0\n",
       "review_overall            0\n",
       "review_taste              0\n",
       "review_profileName      115\n",
       "review_aroma              3\n",
       "review_text             116\n",
       "review_time             794\n",
       "dtype: int64"
      ]
     },
     "execution_count": 3,
     "metadata": {},
     "output_type": "execute_result"
    }
   ],
   "source": [
    "beer_data.isnull().sum()"
   ]
  },
  {
   "cell_type": "markdown",
   "metadata": {},
   "source": [
    "### Since the number of null values is significantly low, so removing the null values"
   ]
  },
  {
   "cell_type": "code",
   "execution_count": 4,
   "metadata": {},
   "outputs": [],
   "source": [
    "beer_data = beer_data.dropna()"
   ]
  },
  {
   "cell_type": "code",
   "execution_count": 5,
   "metadata": {
    "scrolled": true
   },
   "outputs": [
    {
     "name": "stdout",
     "output_type": "stream",
     "text": [
      "<class 'pandas.core.frame.DataFrame'>\n",
      "Int64Index: 507588 entries, 0 to 528796\n",
      "Data columns (total 13 columns):\n",
      " #   Column              Non-Null Count   Dtype  \n",
      "---  ------              --------------   -----  \n",
      " 0   beer_ABV            507588 non-null  float64\n",
      " 1   beer_beerId         507588 non-null  int64  \n",
      " 2   beer_brewerId       507588 non-null  int64  \n",
      " 3   beer_name           507588 non-null  object \n",
      " 4   beer_style          507588 non-null  object \n",
      " 5   review_appearance   507588 non-null  float64\n",
      " 6   review_palette      507588 non-null  float64\n",
      " 7   review_overall      507588 non-null  float64\n",
      " 8   review_taste        507588 non-null  object \n",
      " 9   review_profileName  507588 non-null  object \n",
      " 10  review_aroma        507588 non-null  object \n",
      " 11  review_text         507588 non-null  object \n",
      " 12  review_time         507588 non-null  float64\n",
      "dtypes: float64(5), int64(2), object(6)\n",
      "memory usage: 54.2+ MB\n"
     ]
    }
   ],
   "source": [
    "beer_data.info()"
   ]
  },
  {
   "cell_type": "code",
   "execution_count": 101,
   "metadata": {},
   "outputs": [],
   "source": [
    "beer_data['review_time'] = pd.to_datetime(beer_data['review_time'], unit='s')\n",
    "beer_data['review_taste'] = beer_data['review_taste'].astype('float64')\n",
    "beer_data['review_aroma'] = beer_data['review_aroma'].astype('float64')\n",
    "beer_data['beer_beerId'] = beer_data['beer_beerId'].astype('str')\n",
    "beer_data['beer_brewerId'] = beer_data['beer_brewerId'].astype('str')"
   ]
  },
  {
   "cell_type": "code",
   "execution_count": 7,
   "metadata": {},
   "outputs": [
    {
     "name": "stdout",
     "output_type": "stream",
     "text": [
      "<class 'pandas.core.frame.DataFrame'>\n",
      "Int64Index: 507588 entries, 0 to 528796\n",
      "Data columns (total 13 columns):\n",
      " #   Column              Non-Null Count   Dtype         \n",
      "---  ------              --------------   -----         \n",
      " 0   beer_ABV            507588 non-null  float64       \n",
      " 1   beer_beerId         507588 non-null  object        \n",
      " 2   beer_brewerId       507588 non-null  object        \n",
      " 3   beer_name           507588 non-null  object        \n",
      " 4   beer_style          507588 non-null  object        \n",
      " 5   review_appearance   507588 non-null  float64       \n",
      " 6   review_palette      507588 non-null  float64       \n",
      " 7   review_overall      507588 non-null  float64       \n",
      " 8   review_taste        507588 non-null  float64       \n",
      " 9   review_profileName  507588 non-null  object        \n",
      " 10  review_aroma        507588 non-null  object        \n",
      " 11  review_text         507588 non-null  object        \n",
      " 12  review_time         507588 non-null  datetime64[ns]\n",
      "dtypes: datetime64[ns](1), float64(5), object(7)\n",
      "memory usage: 54.2+ MB\n"
     ]
    }
   ],
   "source": [
    "beer_data.info()"
   ]
  },
  {
   "cell_type": "markdown",
   "metadata": {},
   "source": [
    "## Data Statistics"
   ]
  },
  {
   "cell_type": "code",
   "execution_count": 8,
   "metadata": {},
   "outputs": [
    {
     "data": {
      "text/html": [
       "<div>\n",
       "<style scoped>\n",
       "    .dataframe tbody tr th:only-of-type {\n",
       "        vertical-align: middle;\n",
       "    }\n",
       "\n",
       "    .dataframe tbody tr th {\n",
       "        vertical-align: top;\n",
       "    }\n",
       "\n",
       "    .dataframe thead th {\n",
       "        text-align: right;\n",
       "    }\n",
       "</style>\n",
       "<table border=\"1\" class=\"dataframe\">\n",
       "  <thead>\n",
       "    <tr style=\"text-align: right;\">\n",
       "      <th></th>\n",
       "      <th>beer_ABV</th>\n",
       "      <th>review_appearance</th>\n",
       "      <th>review_palette</th>\n",
       "      <th>review_overall</th>\n",
       "      <th>review_taste</th>\n",
       "    </tr>\n",
       "  </thead>\n",
       "  <tbody>\n",
       "    <tr>\n",
       "      <th>count</th>\n",
       "      <td>507588.000000</td>\n",
       "      <td>507588.000000</td>\n",
       "      <td>507588.000000</td>\n",
       "      <td>507588.000000</td>\n",
       "      <td>507588.000000</td>\n",
       "    </tr>\n",
       "    <tr>\n",
       "      <th>mean</th>\n",
       "      <td>7.016978</td>\n",
       "      <td>3.872634</td>\n",
       "      <td>3.768843</td>\n",
       "      <td>3.840823</td>\n",
       "      <td>3.775269</td>\n",
       "    </tr>\n",
       "    <tr>\n",
       "      <th>std</th>\n",
       "      <td>2.205277</td>\n",
       "      <td>0.601790</td>\n",
       "      <td>0.682457</td>\n",
       "      <td>0.706479</td>\n",
       "      <td>0.665653</td>\n",
       "    </tr>\n",
       "    <tr>\n",
       "      <th>min</th>\n",
       "      <td>0.010000</td>\n",
       "      <td>0.000000</td>\n",
       "      <td>1.000000</td>\n",
       "      <td>0.000000</td>\n",
       "      <td>1.000000</td>\n",
       "    </tr>\n",
       "    <tr>\n",
       "      <th>25%</th>\n",
       "      <td>5.300000</td>\n",
       "      <td>3.500000</td>\n",
       "      <td>3.500000</td>\n",
       "      <td>3.500000</td>\n",
       "      <td>3.500000</td>\n",
       "    </tr>\n",
       "    <tr>\n",
       "      <th>50%</th>\n",
       "      <td>6.500000</td>\n",
       "      <td>4.000000</td>\n",
       "      <td>4.000000</td>\n",
       "      <td>4.000000</td>\n",
       "      <td>4.000000</td>\n",
       "    </tr>\n",
       "    <tr>\n",
       "      <th>75%</th>\n",
       "      <td>8.500000</td>\n",
       "      <td>4.000000</td>\n",
       "      <td>4.000000</td>\n",
       "      <td>4.500000</td>\n",
       "      <td>4.000000</td>\n",
       "    </tr>\n",
       "    <tr>\n",
       "      <th>max</th>\n",
       "      <td>57.700000</td>\n",
       "      <td>5.000000</td>\n",
       "      <td>5.000000</td>\n",
       "      <td>5.000000</td>\n",
       "      <td>5.000000</td>\n",
       "    </tr>\n",
       "  </tbody>\n",
       "</table>\n",
       "</div>"
      ],
      "text/plain": [
       "            beer_ABV  review_appearance  review_palette  review_overall  \\\n",
       "count  507588.000000      507588.000000   507588.000000   507588.000000   \n",
       "mean        7.016978           3.872634        3.768843        3.840823   \n",
       "std         2.205277           0.601790        0.682457        0.706479   \n",
       "min         0.010000           0.000000        1.000000        0.000000   \n",
       "25%         5.300000           3.500000        3.500000        3.500000   \n",
       "50%         6.500000           4.000000        4.000000        4.000000   \n",
       "75%         8.500000           4.000000        4.000000        4.500000   \n",
       "max        57.700000           5.000000        5.000000        5.000000   \n",
       "\n",
       "        review_taste  \n",
       "count  507588.000000  \n",
       "mean        3.775269  \n",
       "std         0.665653  \n",
       "min         1.000000  \n",
       "25%         3.500000  \n",
       "50%         4.000000  \n",
       "75%         4.000000  \n",
       "max         5.000000  "
      ]
     },
     "execution_count": 8,
     "metadata": {},
     "output_type": "execute_result"
    }
   ],
   "source": [
    "beer_data.describe()"
   ]
  },
  {
   "cell_type": "markdown",
   "metadata": {},
   "source": [
    "# Rank top 3 Breweries which produce the strongest beers"
   ]
  },
  {
   "cell_type": "markdown",
   "metadata": {},
   "source": [
    "#### Strong beers are categorised by Alcohol by Volume Content, Strong Beers are those beers which have ABV higher than 8"
   ]
  },
  {
   "cell_type": "markdown",
   "metadata": {},
   "source": [
    "### Hence the strongest beers are shown below"
   ]
  },
  {
   "cell_type": "code",
   "execution_count": 83,
   "metadata": {},
   "outputs": [
    {
     "data": {
      "text/plain": [
       "0       73368\n",
       "1       57856\n",
       "2       55712\n",
       "3       51466\n",
       "4       25759\n",
       "        ...  \n",
       "2958     2363\n",
       "2959    71340\n",
       "2960    74686\n",
       "2961     2362\n",
       "2962    21785\n",
       "Name: beer_beerId, Length: 2885, dtype: object"
      ]
     },
     "execution_count": 83,
     "metadata": {},
     "output_type": "execute_result"
    }
   ],
   "source": [
    "beerABV_groupby = beer_data.groupby(['beer_beerId','beer_name'])['beer_ABV'].mean().sort_values(ascending=False).reset_index().drop_duplicates('beer_name')\n",
    "strongest_beers = beerABV_groupby[beerABV_groupby['beer_ABV'] >= 8]['beer_beerId']\n",
    "strongest_beers"
   ]
  },
  {
   "cell_type": "markdown",
   "metadata": {},
   "source": [
    "### Ranking The Brewery according to the count of their strong beers"
   ]
  },
  {
   "cell_type": "code",
   "execution_count": 84,
   "metadata": {},
   "outputs": [],
   "source": [
    "brewery_selling_strong_beers = beer_data.loc[beer_data['beer_beerId'].isin(strongest_beers)]\n",
    "brewery_selling_strong_beers_count = brewery_selling_strong_beers.groupby(['beer_brewerId'])['beer_beerId'].count().reset_index().sort_values('beer_beerId', ascending=False)[:5].rename(columns = {'beer_beerId':'beer_beerId_count'})"
   ]
  },
  {
   "cell_type": "code",
   "execution_count": 144,
   "metadata": {},
   "outputs": [
    {
     "data": {
      "image/png": "[encoded data removed]",
      "text/plain": [
       "<Figure size 432x288 with 1 Axes>"
      ]
     },
     "metadata": {
      "needs_background": "light"
     },
     "output_type": "display_data"
    }
   ],
   "source": [
    "brewery_selling_strong_beers_count.plot(kind = 'bar', x='beer_brewerId', y='beer_beerId_count', title='Strongest Beers')\n",
    "plt.savefig(\"D:\\\\BeerDataScienceProject\\\\Strong_beers_plot.png\")"
   ]
  },
  {
   "cell_type": "markdown",
   "metadata": {},
   "source": [
    "# Which year did beers enjoy the highest ratings?"
   ]
  },
  {
   "cell_type": "code",
   "execution_count": 88,
   "metadata": {},
   "outputs": [],
   "source": [
    "columns= ['review_appearance', 'review_palette', 'review_taste', 'review_aroma', 'review_overall']\n",
    "beer_data_years = pd.DataFrame(beer_data[columns])\n",
    "beer_data_years.insert(0,'year',beer_data['review_time'].dt.year, True)"
   ]
  },
  {
   "cell_type": "code",
   "execution_count": 145,
   "metadata": {},
   "outputs": [
    {
     "data": {
      "image/png": "[encoded data removed]",
      "text/plain": [
       "<Figure size 432x288 with 1 Axes>"
      ]
     },
     "metadata": {
      "needs_background": "light"
     },
     "output_type": "display_data"
    }
   ],
   "source": [
    "beer_data_years.groupby(['year']).mean().plot(kind='line', title = 'Highest Ratings throughout years')\n",
    "plt.savefig(\"D:\\\\BeerDataScienceProject\\\\Highest_Ratings_throughout_years.png\")"
   ]
  },
  {
   "cell_type": "markdown",
   "metadata": {},
   "source": [
    "#### So the beers enjoyed highest ratings in 2000 since the graph has the highest peaks in the year 2000. After which the quality of beers reduced(according to the ratings). \n",
    "#### Since 2005 the ratings have improved. The beers achieved highest ratings in 2010 after 2000 in all aspects. Therefor the years beers enjoyed highest ratings are 2000, 2005, 2009, 2010"
   ]
  },
  {
   "cell_type": "markdown",
   "metadata": {},
   "source": [
    "# Based on the user’s ratings which factors are important among taste, aroma, appearance, and palette?"
   ]
  },
  {
   "cell_type": "code",
   "execution_count": 169,
   "metadata": {},
   "outputs": [
    {
     "data": {
      "text/html": [
       "<div>\n",
       "<style scoped>\n",
       "    .dataframe tbody tr th:only-of-type {\n",
       "        vertical-align: middle;\n",
       "    }\n",
       "\n",
       "    .dataframe tbody tr th {\n",
       "        vertical-align: top;\n",
       "    }\n",
       "\n",
       "    .dataframe thead th {\n",
       "        text-align: right;\n",
       "    }\n",
       "</style>\n",
       "<table border=\"1\" class=\"dataframe\">\n",
       "  <thead>\n",
       "    <tr style=\"text-align: right;\">\n",
       "      <th></th>\n",
       "      <th>review_appearance</th>\n",
       "      <th>review_palette</th>\n",
       "      <th>review_taste</th>\n",
       "      <th>review_aroma</th>\n",
       "      <th>review_overall</th>\n",
       "    </tr>\n",
       "  </thead>\n",
       "  <tbody>\n",
       "    <tr>\n",
       "      <th>review_appearance</th>\n",
       "      <td>1.000000</td>\n",
       "      <td>0.544890</td>\n",
       "      <td>0.552111</td>\n",
       "      <td>0.531406</td>\n",
       "      <td>0.483125</td>\n",
       "    </tr>\n",
       "    <tr>\n",
       "      <th>review_palette</th>\n",
       "      <td>0.544890</td>\n",
       "      <td>1.000000</td>\n",
       "      <td>0.600932</td>\n",
       "      <td>0.703514</td>\n",
       "      <td>0.598055</td>\n",
       "    </tr>\n",
       "    <tr>\n",
       "      <th>review_taste</th>\n",
       "      <td>0.552111</td>\n",
       "      <td>0.600932</td>\n",
       "      <td>1.000000</td>\n",
       "      <td>0.722836</td>\n",
       "      <td>0.689306</td>\n",
       "    </tr>\n",
       "    <tr>\n",
       "      <th>review_aroma</th>\n",
       "      <td>0.531406</td>\n",
       "      <td>0.703514</td>\n",
       "      <td>0.722836</td>\n",
       "      <td>1.000000</td>\n",
       "      <td>0.780305</td>\n",
       "    </tr>\n",
       "    <tr>\n",
       "      <th>review_overall</th>\n",
       "      <td>0.483125</td>\n",
       "      <td>0.598055</td>\n",
       "      <td>0.689306</td>\n",
       "      <td>0.780305</td>\n",
       "      <td>1.000000</td>\n",
       "    </tr>\n",
       "  </tbody>\n",
       "</table>\n",
       "</div>"
      ],
      "text/plain": [
       "                   review_appearance  review_palette  review_taste  \\\n",
       "review_appearance           1.000000        0.544890      0.552111   \n",
       "review_palette              0.544890        1.000000      0.600932   \n",
       "review_taste                0.552111        0.600932      1.000000   \n",
       "review_aroma                0.531406        0.703514      0.722836   \n",
       "review_overall              0.483125        0.598055      0.689306   \n",
       "\n",
       "                   review_aroma  review_overall  \n",
       "review_appearance      0.531406        0.483125  \n",
       "review_palette         0.703514        0.598055  \n",
       "review_taste           0.722836        0.689306  \n",
       "review_aroma           1.000000        0.780305  \n",
       "review_overall         0.780305        1.000000  "
      ]
     },
     "execution_count": 169,
     "metadata": {},
     "output_type": "execute_result"
    }
   ],
   "source": [
    "beer_data_factors = beer_data[columns]\n",
    "beer_data_factors.corr()"
   ]
  },
  {
   "cell_type": "code",
   "execution_count": 93,
   "metadata": {},
   "outputs": [
    {
     "data": {
      "image/png": "[encoded data removed]",
      "text/plain": [
       "<Figure size 432x288 with 2 Axes>"
      ]
     },
     "metadata": {
      "needs_background": "light"
     },
     "output_type": "display_data"
    }
   ],
   "source": [
    "heatmap = sb.heatmap(beer_data_factors.corr())"
   ]
  },
  {
   "cell_type": "code",
   "execution_count": null,
   "metadata": {},
   "outputs": [],
   "source": [
    "plt.savefig(\"D:\\\\BeerDataScienceProject\\\\important_factors.png\")"
   ]
  },
  {
   "cell_type": "markdown",
   "metadata": {},
   "source": [
    "### According to the table and the heatmap, it is seen that Aroma and Taste of the Beer are significantly correlated with the Overall ratings, hence we can come to the conclusion that Aroma and Taste influence the Overall ratings"
   ]
  },
  {
   "cell_type": "markdown",
   "metadata": {},
   "source": [
    "# If you were to recommend 3 beers to your friends based on this data which ones will you recommend?"
   ]
  },
  {
   "cell_type": "code",
   "execution_count": 102,
   "metadata": {},
   "outputs": [],
   "source": [
    "strong_beer_data = beer_data[beer_data['beer_ABV'] >= 8]\n",
    "medium_beer_data = beer_data[(beer_data['beer_ABV'] >= 5) &(beer_data['beer_ABV'] < 8)]\n",
    "light_beer_data = beer_data[(beer_data['beer_ABV'] >= 3) & (beer_data['beer_ABV'] < 5)]"
   ]
  },
  {
   "cell_type": "code",
   "execution_count": 103,
   "metadata": {},
   "outputs": [
    {
     "data": {
      "text/plain": [
       "beer_ABV            -0.039986\n",
       "review_appearance    0.414788\n",
       "review_palette       0.559277\n",
       "review_overall       1.000000\n",
       "review_taste         0.655945\n",
       "review_aroma         0.765404\n",
       "Name: review_overall, dtype: float64"
      ]
     },
     "execution_count": 103,
     "metadata": {},
     "output_type": "execute_result"
    }
   ],
   "source": [
    "strong_beer_data.corr()['review_overall']"
   ]
  },
  {
   "cell_type": "code",
   "execution_count": 104,
   "metadata": {},
   "outputs": [
    {
     "data": {
      "text/plain": [
       "beer_ABV             0.125128\n",
       "review_appearance    0.469940\n",
       "review_palette       0.593748\n",
       "review_overall       1.000000\n",
       "review_taste         0.688623\n",
       "review_aroma         0.782771\n",
       "Name: review_overall, dtype: float64"
      ]
     },
     "execution_count": 104,
     "metadata": {},
     "output_type": "execute_result"
    }
   ],
   "source": [
    "medium_beer_data.corr()['review_overall']"
   ]
  },
  {
   "cell_type": "code",
   "execution_count": 105,
   "metadata": {},
   "outputs": [
    {
     "data": {
      "text/plain": [
       "beer_ABV             0.109885\n",
       "review_appearance    0.542302\n",
       "review_palette       0.635820\n",
       "review_overall       1.000000\n",
       "review_taste         0.720195\n",
       "review_aroma         0.798750\n",
       "Name: review_overall, dtype: float64"
      ]
     },
     "execution_count": 105,
     "metadata": {},
     "output_type": "execute_result"
    }
   ],
   "source": [
    "light_beer_data.corr()['review_overall']"
   ]
  },
  {
   "cell_type": "markdown",
   "metadata": {},
   "source": [
    "#### A Good correlation would be a correlation value of above 0.5 hence extracting those beers whose correlation between various factors and overall ratings is greater than 0.5"
   ]
  },
  {
   "cell_type": "code",
   "execution_count": 106,
   "metadata": {},
   "outputs": [
    {
     "name": "stderr",
     "output_type": "stream",
     "text": [
      "<ipython-input-106-efca29fe7214>:1: FutureWarning: Indexing with multiple keys (implicitly converted to a tuple of keys) will be deprecated, use a list instead.\n",
      "  strong_beer_data_best_beers = strong_beer_data.groupby(['beer_beerId'])['review_aroma','review_taste','review_palette','review_overall'].mean().sort_values(['review_aroma','review_taste','review_palette','review_overall'], ascending=False)\n"
     ]
    },
    {
     "data": {
      "text/html": [
       "<div>\n",
       "<style scoped>\n",
       "    .dataframe tbody tr th:only-of-type {\n",
       "        vertical-align: middle;\n",
       "    }\n",
       "\n",
       "    .dataframe tbody tr th {\n",
       "        vertical-align: top;\n",
       "    }\n",
       "\n",
       "    .dataframe thead th {\n",
       "        text-align: right;\n",
       "    }\n",
       "</style>\n",
       "<table border=\"1\" class=\"dataframe\">\n",
       "  <thead>\n",
       "    <tr style=\"text-align: right;\">\n",
       "      <th></th>\n",
       "      <th>review_aroma</th>\n",
       "      <th>review_taste</th>\n",
       "      <th>review_palette</th>\n",
       "      <th>review_overall</th>\n",
       "    </tr>\n",
       "    <tr>\n",
       "      <th>beer_beerId</th>\n",
       "      <th></th>\n",
       "      <th></th>\n",
       "      <th></th>\n",
       "      <th></th>\n",
       "    </tr>\n",
       "  </thead>\n",
       "  <tbody>\n",
       "    <tr>\n",
       "      <th>1734</th>\n",
       "      <td>5.0</td>\n",
       "      <td>5.0</td>\n",
       "      <td>5.0</td>\n",
       "      <td>5.0</td>\n",
       "    </tr>\n",
       "    <tr>\n",
       "      <th>29423</th>\n",
       "      <td>5.0</td>\n",
       "      <td>5.0</td>\n",
       "      <td>5.0</td>\n",
       "      <td>5.0</td>\n",
       "    </tr>\n",
       "    <tr>\n",
       "      <th>44449</th>\n",
       "      <td>5.0</td>\n",
       "      <td>5.0</td>\n",
       "      <td>5.0</td>\n",
       "      <td>5.0</td>\n",
       "    </tr>\n",
       "  </tbody>\n",
       "</table>\n",
       "</div>"
      ],
      "text/plain": [
       "             review_aroma  review_taste  review_palette  review_overall\n",
       "beer_beerId                                                            \n",
       "1734                  5.0           5.0             5.0             5.0\n",
       "29423                 5.0           5.0             5.0             5.0\n",
       "44449                 5.0           5.0             5.0             5.0"
      ]
     },
     "execution_count": 106,
     "metadata": {},
     "output_type": "execute_result"
    }
   ],
   "source": [
    "strong_beer_data_best_beers = strong_beer_data.groupby(['beer_beerId'])['review_aroma','review_taste','review_palette','review_overall'].mean().sort_values(['review_aroma','review_taste','review_palette','review_overall'], ascending=False)\n",
    "strong_beer_data_best_beers.head()[:3]"
   ]
  },
  {
   "cell_type": "code",
   "execution_count": 107,
   "metadata": {},
   "outputs": [
    {
     "name": "stderr",
     "output_type": "stream",
     "text": [
      "<ipython-input-107-fb2efb8e8aed>:1: FutureWarning: Indexing with multiple keys (implicitly converted to a tuple of keys) will be deprecated, use a list instead.\n",
      "  medium_beer_data_best_beers = medium_beer_data.groupby(['beer_beerId'])['review_aroma','review_taste','review_palette','review_overall'].mean().sort_values(['review_aroma','review_taste','review_palette','review_overall'], ascending=False)\n"
     ]
    },
    {
     "data": {
      "text/html": [
       "<div>\n",
       "<style scoped>\n",
       "    .dataframe tbody tr th:only-of-type {\n",
       "        vertical-align: middle;\n",
       "    }\n",
       "\n",
       "    .dataframe tbody tr th {\n",
       "        vertical-align: top;\n",
       "    }\n",
       "\n",
       "    .dataframe thead th {\n",
       "        text-align: right;\n",
       "    }\n",
       "</style>\n",
       "<table border=\"1\" class=\"dataframe\">\n",
       "  <thead>\n",
       "    <tr style=\"text-align: right;\">\n",
       "      <th></th>\n",
       "      <th>review_aroma</th>\n",
       "      <th>review_taste</th>\n",
       "      <th>review_palette</th>\n",
       "      <th>review_overall</th>\n",
       "    </tr>\n",
       "    <tr>\n",
       "      <th>beer_beerId</th>\n",
       "      <th></th>\n",
       "      <th></th>\n",
       "      <th></th>\n",
       "      <th></th>\n",
       "    </tr>\n",
       "  </thead>\n",
       "  <tbody>\n",
       "    <tr>\n",
       "      <th>37386</th>\n",
       "      <td>5.0</td>\n",
       "      <td>5.0</td>\n",
       "      <td>5.0</td>\n",
       "      <td>5.0</td>\n",
       "    </tr>\n",
       "    <tr>\n",
       "      <th>41833</th>\n",
       "      <td>5.0</td>\n",
       "      <td>5.0</td>\n",
       "      <td>5.0</td>\n",
       "      <td>5.0</td>\n",
       "    </tr>\n",
       "    <tr>\n",
       "      <th>66415</th>\n",
       "      <td>5.0</td>\n",
       "      <td>5.0</td>\n",
       "      <td>5.0</td>\n",
       "      <td>5.0</td>\n",
       "    </tr>\n",
       "  </tbody>\n",
       "</table>\n",
       "</div>"
      ],
      "text/plain": [
       "             review_aroma  review_taste  review_palette  review_overall\n",
       "beer_beerId                                                            \n",
       "37386                 5.0           5.0             5.0             5.0\n",
       "41833                 5.0           5.0             5.0             5.0\n",
       "66415                 5.0           5.0             5.0             5.0"
      ]
     },
     "execution_count": 107,
     "metadata": {},
     "output_type": "execute_result"
    }
   ],
   "source": [
    "medium_beer_data_best_beers = medium_beer_data.groupby(['beer_beerId'])['review_aroma','review_taste','review_palette','review_overall'].mean().sort_values(['review_aroma','review_taste','review_palette','review_overall'], ascending=False)\n",
    "medium_beer_data_best_beers.head()[:3]"
   ]
  },
  {
   "cell_type": "code",
   "execution_count": 170,
   "metadata": {},
   "outputs": [
    {
     "name": "stderr",
     "output_type": "stream",
     "text": [
      "<ipython-input-170-2ac8c63c72ae>:1: FutureWarning: Indexing with multiple keys (implicitly converted to a tuple of keys) will be deprecated, use a list instead.\n",
      "  light_beer_data_best_beers = light_beer_data.groupby(['beer_beerId'])['review_aroma','review_taste','review_palette','review_appearance','review_overall'].mean().sort_values(['review_aroma','review_taste','review_palette','review_appearance','review_overall'], ascending=False)\n"
     ]
    },
    {
     "data": {
      "text/html": [
       "<div>\n",
       "<style scoped>\n",
       "    .dataframe tbody tr th:only-of-type {\n",
       "        vertical-align: middle;\n",
       "    }\n",
       "\n",
       "    .dataframe tbody tr th {\n",
       "        vertical-align: top;\n",
       "    }\n",
       "\n",
       "    .dataframe thead th {\n",
       "        text-align: right;\n",
       "    }\n",
       "</style>\n",
       "<table border=\"1\" class=\"dataframe\">\n",
       "  <thead>\n",
       "    <tr style=\"text-align: right;\">\n",
       "      <th></th>\n",
       "      <th>review_aroma</th>\n",
       "      <th>review_taste</th>\n",
       "      <th>review_palette</th>\n",
       "      <th>review_appearance</th>\n",
       "      <th>review_overall</th>\n",
       "    </tr>\n",
       "    <tr>\n",
       "      <th>beer_beerId</th>\n",
       "      <th></th>\n",
       "      <th></th>\n",
       "      <th></th>\n",
       "      <th></th>\n",
       "      <th></th>\n",
       "    </tr>\n",
       "  </thead>\n",
       "  <tbody>\n",
       "    <tr>\n",
       "      <th>75829</th>\n",
       "      <td>5.0</td>\n",
       "      <td>5.0</td>\n",
       "      <td>5.0</td>\n",
       "      <td>5.0</td>\n",
       "      <td>5.0</td>\n",
       "    </tr>\n",
       "    <tr>\n",
       "      <th>15129</th>\n",
       "      <td>5.0</td>\n",
       "      <td>5.0</td>\n",
       "      <td>4.5</td>\n",
       "      <td>5.0</td>\n",
       "      <td>5.0</td>\n",
       "    </tr>\n",
       "    <tr>\n",
       "      <th>50391</th>\n",
       "      <td>5.0</td>\n",
       "      <td>5.0</td>\n",
       "      <td>4.5</td>\n",
       "      <td>5.0</td>\n",
       "      <td>5.0</td>\n",
       "    </tr>\n",
       "  </tbody>\n",
       "</table>\n",
       "</div>"
      ],
      "text/plain": [
       "             review_aroma  review_taste  review_palette  review_appearance  \\\n",
       "beer_beerId                                                                  \n",
       "75829                 5.0           5.0             5.0                5.0   \n",
       "15129                 5.0           5.0             4.5                5.0   \n",
       "50391                 5.0           5.0             4.5                5.0   \n",
       "\n",
       "             review_overall  \n",
       "beer_beerId                  \n",
       "75829                   5.0  \n",
       "15129                   5.0  \n",
       "50391                   5.0  "
      ]
     },
     "execution_count": 170,
     "metadata": {},
     "output_type": "execute_result"
    }
   ],
   "source": [
    "light_beer_data_best_beers = light_beer_data.groupby(['beer_beerId'])['review_aroma','review_taste','review_palette','review_appearance','review_overall'].mean().sort_values(['review_aroma','review_taste','review_palette','review_appearance','review_overall'], ascending=False)\n",
    "light_beer_data_best_beers.head()[:3]"
   ]
  },
  {
   "cell_type": "markdown",
   "metadata": {},
   "source": [
    "# Which Beer style seems to be the favorite based on reviews written by users?"
   ]
  },
  {
   "cell_type": "code",
   "execution_count": 9,
   "metadata": {},
   "outputs": [],
   "source": [
    "def clean_string(text):\n",
    "    text = ''.join([word for word in text if word not in string.punctuation]).lower()\n",
    "    text = ' '.join([word for word in text.split() if word not in stopwords])\n",
    "    #text = ' '.join([word.lemma_ for word in en(text)])\n",
    "    return text"
   ]
  },
  {
   "cell_type": "code",
   "execution_count": 10,
   "metadata": {},
   "outputs": [],
   "source": [
    "def stemSentence(text):\n",
    "    sentence = clean_string(text)\n",
    "    porter = PorterStemmer()\n",
    "    token_words = word_tokenize(sentence)\n",
    "    stem_sentence = [porter.stem(word) for word in token_words]\n",
    "    return ' '.join(stem_sentence)"
   ]
  },
  {
   "cell_type": "code",
   "execution_count": 11,
   "metadata": {
    "collapsed": true
   },
   "outputs": [
    {
     "data": {
      "text/plain": [
       "['Hefeweizen',\n",
       " 'English Strong Ale',\n",
       " 'Foreign / Export Stout',\n",
       " 'German Pilsener',\n",
       " 'American Double / Imperial IPA',\n",
       " 'Herbed / Spiced Beer',\n",
       " 'Oatmeal Stout',\n",
       " 'American Pale Lager',\n",
       " 'Rauchbier',\n",
       " 'American Pale Ale (APA)',\n",
       " 'American Porter',\n",
       " 'Belgian Strong Dark Ale',\n",
       " 'Russian Imperial Stout',\n",
       " 'American Amber / Red Ale',\n",
       " 'American Strong Ale',\n",
       " 'M?zen / Oktoberfest',\n",
       " 'American Adjunct Lager',\n",
       " 'American Blonde Ale',\n",
       " 'American IPA',\n",
       " 'Fruit / Vegetable Beer',\n",
       " 'English Bitter',\n",
       " 'English Porter',\n",
       " 'Irish Dry Stout',\n",
       " 'American Barleywine',\n",
       " 'American Double / Imperial Stout',\n",
       " 'Doppelbock',\n",
       " 'American Stout',\n",
       " 'Maibock / Helles Bock',\n",
       " 'Dortmunder / Export Lager',\n",
       " 'Euro Strong Lager',\n",
       " 'Low Alcohol Beer',\n",
       " 'Light Lager',\n",
       " 'Euro Pale Lager',\n",
       " 'Bock',\n",
       " 'English India Pale Ale (IPA)',\n",
       " 'Altbier',\n",
       " 'K?sch',\n",
       " 'Pumpkin Ale',\n",
       " 'Rye Beer',\n",
       " 'American Pale Wheat Ale',\n",
       " 'Milk / Sweet Stout',\n",
       " 'Schwarzbier',\n",
       " 'Munich Dunkel Lager',\n",
       " 'Vienna Lager',\n",
       " 'American Amber / Red Lager',\n",
       " 'Scottish Ale',\n",
       " 'Witbier',\n",
       " 'Saison / Farmhouse Ale',\n",
       " 'American Black Ale',\n",
       " 'English Brown Ale',\n",
       " 'English Barleywine',\n",
       " 'Extra Special / Strong Bitter (ESB)',\n",
       " 'California Common / Steam Beer',\n",
       " 'Euro Dark Lager',\n",
       " 'Scotch Ale / Wee Heavy',\n",
       " 'English Pale Ale',\n",
       " 'Belgian Strong Pale Ale',\n",
       " 'Belgian Pale Ale',\n",
       " 'Tripel',\n",
       " 'Flanders Oud Bruin',\n",
       " 'American Brown Ale',\n",
       " 'Smoked Beer',\n",
       " 'Dunkelweizen',\n",
       " 'Dubbel',\n",
       " 'Keller Bier / Zwickel Bier',\n",
       " 'Winter Warmer',\n",
       " 'Bi?e de Garde',\n",
       " 'Belgian Dark Ale',\n",
       " 'Irish Red Ale',\n",
       " 'Chile Beer',\n",
       " 'English Stout',\n",
       " 'Czech Pilsener',\n",
       " 'Belgian IPA',\n",
       " 'Black & Tan',\n",
       " 'Cream Ale',\n",
       " 'English Dark Mild Ale',\n",
       " 'American Wild Ale',\n",
       " 'Weizenbock',\n",
       " 'American Double / Imperial Pilsner',\n",
       " 'Scottish Gruit / Ancient Herbed Ale',\n",
       " 'Wheatwine',\n",
       " 'American Dark Wheat Ale',\n",
       " 'American Malt Liquor',\n",
       " 'Munich Helles Lager',\n",
       " 'Kristalweizen',\n",
       " 'English Pale Mild Ale',\n",
       " 'Baltic Porter',\n",
       " 'Old Ale',\n",
       " 'Quadrupel (Quad)',\n",
       " 'Braggot',\n",
       " 'Lambic - Fruit',\n",
       " 'Lambic - Unblended',\n",
       " 'Eisbock',\n",
       " 'Flanders Red Ale',\n",
       " 'Berliner Weissbier',\n",
       " 'Kvass',\n",
       " 'Roggenbier',\n",
       " 'Faro',\n",
       " 'Gueuze',\n",
       " 'Gose',\n",
       " 'Japanese Rice Lager',\n",
       " 'Happoshu',\n",
       " 'Sahti',\n",
       " 'Bi?e de Champagne / Bi?e Brut']"
      ]
     },
     "execution_count": 11,
     "metadata": {},
     "output_type": "execute_result"
    }
   ],
   "source": [
    "beer_style = list(beer_data['beer_style'].unique())\n",
    "beer_style"
   ]
  },
  {
   "cell_type": "code",
   "execution_count": 36,
   "metadata": {
    "collapsed": true
   },
   "outputs": [
    {
     "name": "stdout",
     "output_type": "stream",
     "text": [
      "Hefeweizen\n",
      "English Strong Ale\n",
      "Foreign / Export Stout\n",
      "German Pilsener\n",
      "American Double / Imperial IPA\n",
      "Herbed / Spiced Beer\n",
      "Oatmeal Stout\n",
      "American Pale Lager\n",
      "Rauchbier\n",
      "American Pale Ale (APA)\n",
      "American Porter\n",
      "Belgian Strong Dark Ale\n",
      "Russian Imperial Stout\n",
      "American Amber / Red Ale\n",
      "American Strong Ale\n",
      "M?zen / Oktoberfest\n",
      "American Adjunct Lager\n",
      "American Blonde Ale\n",
      "American IPA\n",
      "Fruit / Vegetable Beer\n",
      "English Bitter\n",
      "English Porter\n",
      "Irish Dry Stout\n",
      "American Barleywine\n",
      "American Double / Imperial Stout\n",
      "Doppelbock\n",
      "American Stout\n",
      "Maibock / Helles Bock\n",
      "Dortmunder / Export Lager\n",
      "Euro Strong Lager\n",
      "Low Alcohol Beer\n",
      "Light Lager\n",
      "Euro Pale Lager\n",
      "Bock\n",
      "English India Pale Ale (IPA)\n",
      "Altbier\n",
      "K?sch\n",
      "Pumpkin Ale\n",
      "Rye Beer\n",
      "American Pale Wheat Ale\n",
      "Milk / Sweet Stout\n",
      "Schwarzbier\n",
      "Munich Dunkel Lager\n",
      "Vienna Lager\n",
      "American Amber / Red Lager\n",
      "Scottish Ale\n",
      "Witbier\n",
      "Saison / Farmhouse Ale\n",
      "American Black Ale\n",
      "English Brown Ale\n",
      "English Barleywine\n",
      "Extra Special / Strong Bitter (ESB)\n",
      "California Common / Steam Beer\n",
      "Euro Dark Lager\n",
      "Scotch Ale / Wee Heavy\n",
      "English Pale Ale\n",
      "Belgian Strong Pale Ale\n",
      "Belgian Pale Ale\n",
      "Tripel\n",
      "Flanders Oud Bruin\n",
      "American Brown Ale\n",
      "Smoked Beer\n",
      "Dunkelweizen\n",
      "Dubbel\n",
      "Keller Bier / Zwickel Bier\n",
      "Winter Warmer\n",
      "Bi?e de Garde\n",
      "Belgian Dark Ale\n",
      "Irish Red Ale\n",
      "Chile Beer\n",
      "English Stout\n",
      "Czech Pilsener\n",
      "Belgian IPA\n",
      "Black & Tan\n",
      "Cream Ale\n",
      "English Dark Mild Ale\n",
      "American Wild Ale\n",
      "Weizenbock\n",
      "American Double / Imperial Pilsner\n",
      "Scottish Gruit / Ancient Herbed Ale\n",
      "Wheatwine\n",
      "American Dark Wheat Ale\n",
      "American Malt Liquor\n",
      "Munich Helles Lager\n",
      "Kristalweizen\n",
      "English Pale Mild Ale\n",
      "Baltic Porter\n",
      "Old Ale\n",
      "Quadrupel (Quad)\n",
      "Braggot\n",
      "Lambic - Fruit\n",
      "Lambic - Unblended\n",
      "Eisbock\n",
      "Flanders Red Ale\n",
      "Berliner Weissbier\n",
      "Kvass\n",
      "Roggenbier\n",
      "Faro\n",
      "Gueuze\n",
      "Gose\n",
      "Japanese Rice Lager\n",
      "Happoshu\n",
      "Sahti\n",
      "Bi?e de Champagne / Bi?e Brut\n"
     ]
    }
   ],
   "source": [
    "beer_style_df_lst= []\n",
    "for style in beer_style:\n",
    "    print(style)\n",
    "    beer_style_review = beer_data[beer_data['beer_style'] == style][['beer_style','review_text']]\n",
    "    beer_style_review['processed_review_text'] = beer_style_review['review_text'].apply(lambda x: stemSentence(x.lower()))\n",
    "    beer_style_df_lst.append(beer_style_review)"
   ]
  },
  {
   "cell_type": "code",
   "execution_count": 77,
   "metadata": {},
   "outputs": [],
   "source": [
    "def clustering(df,col_name, optimal_k=9):\n",
    "    vectorizer_ntf = TfidfVectorizer(analyzer='word',ngram_range=(1,3))\n",
    "    X_ntf = vectorizer_ntf.fit_transform(df[col_name])\n",
    "    '''\n",
    "    sse={}\n",
    "    for k in range(8,11):\n",
    "        print(k)\n",
    "        kmeans = KMeans(n_clusters=k).fit(X_ntf)\n",
    "        sse[k] = kmeans.inertia_\n",
    "    plt.plot(list(sse.keys()),list(sse.values()))\n",
    "    plt.xlabel('Values for K')\n",
    "    plt.ylabel('SSE')\n",
    "    plt.show()\n",
    "    '''\n",
    "    kmeans = KMeans(n_clusters=optimal_k).fit(X_ntf)\n",
    "    df['cluster'] = kmeans.predict(X_ntf)\n",
    "    cluster_rating = {}\n",
    "    for i in range(9):\n",
    "        lst = max(df[df['cluster'] == i]['review_text'].to_list(),key=df[df['cluster'] == i]['review_text'].to_list().count)\n",
    "        if 'great' in lst:\n",
    "            cluster_rating[i] = 5\n",
    "        if 'good' in lst:\n",
    "            cluster_rating[i] = 4\n",
    "            continue\n",
    "        if 'bad' in lst:\n",
    "            cluster_rating[i] = 2\n",
    "        if 'worst' in lst:\n",
    "            cluster_rating[i] = 1\n",
    "        else:\n",
    "            cluster_rating[i] = 3\n",
    "    df['cluster_rating'] = df['cluster'].map(cluster_rating)\n",
    "    return df"
   ]
  },
  {
   "cell_type": "code",
   "execution_count": 78,
   "metadata": {
    "collapsed": true
   },
   "outputs": [
    {
     "name": "stdout",
     "output_type": "stream",
     "text": [
      "Hefeweizen\n",
      "2022-05-30 19:26:19.222679\n",
      "English Strong Ale\n",
      "2022-05-30 19:26:21.112736\n",
      "Foreign / Export Stout\n",
      "2022-05-30 19:26:25.313269\n",
      "German Pilsener\n",
      "2022-05-30 19:26:49.690032\n",
      "American Double / Imperial IPA\n",
      "2022-05-30 19:32:32.216352\n",
      "Herbed / Spiced Beer\n",
      "2022-05-30 19:32:50.676176\n",
      "Oatmeal Stout\n",
      "2022-05-30 19:33:44.980311\n",
      "American Pale Lager\n",
      "2022-05-30 19:33:49.616785\n",
      "Rauchbier\n",
      "2022-05-30 19:33:55.461563\n",
      "American Pale Ale (APA)\n",
      "2022-05-30 19:37:17.143216\n",
      "American Porter\n",
      "2022-05-30 19:40:11.239656\n",
      "Belgian Strong Dark Ale\n",
      "2022-05-30 19:43:17.382891\n",
      "Russian Imperial Stout\n",
      "2022-05-30 19:46:57.142721\n",
      "American Amber / Red Ale\n",
      "2022-05-30 19:50:06.830153\n",
      "American Strong Ale\n",
      "2022-05-30 19:51:06.857154\n",
      "M?zen / Oktoberfest\n",
      "2022-05-30 19:51:56.609536\n",
      "American Adjunct Lager\n",
      "2022-05-30 19:53:29.983057\n",
      "American Blonde Ale\n",
      "2022-05-30 19:53:44.133612\n",
      "American IPA\n",
      "2022-05-30 20:04:34.078622\n",
      "Fruit / Vegetable Beer\n",
      "2022-05-30 20:07:20.695795\n",
      "English Bitter\n",
      "2022-05-30 20:07:26.055552\n",
      "English Porter\n",
      "2022-05-30 20:07:50.872568\n",
      "Irish Dry Stout\n",
      "2022-05-30 20:07:54.422017\n",
      "American Barleywine\n",
      "2022-05-30 20:09:57.503283\n",
      "American Double / Imperial Stout\n",
      "2022-05-30 20:15:12.288094\n",
      "Doppelbock\n",
      "2022-05-30 20:15:55.030075\n",
      "American Stout\n",
      "2022-05-30 20:17:00.655776\n",
      "Maibock / Helles Bock\n",
      "2022-05-30 20:17:56.974497\n",
      "Dortmunder / Export Lager\n",
      "2022-05-30 20:18:00.018315\n",
      "Euro Strong Lager\n",
      "2022-05-30 20:18:01.057992\n",
      "Low Alcohol Beer\n",
      "2022-05-30 20:18:01.288590\n",
      "Light Lager\n",
      "2022-05-30 20:18:26.438185\n",
      "Euro Pale Lager\n",
      "2022-05-30 20:19:04.528579\n",
      "Bock\n",
      "2022-05-30 20:19:38.825823\n",
      "English India Pale Ale (IPA)\n",
      "2022-05-30 20:19:53.415796\n",
      "Altbier\n",
      "2022-05-30 20:20:02.824186\n",
      "K?sch\n",
      "2022-05-30 20:20:06.864447\n",
      "Pumpkin Ale\n",
      "2022-05-30 20:20:56.294857\n",
      "Rye Beer\n",
      "2022-05-30 20:21:30.940390\n",
      "American Pale Wheat Ale\n",
      "2022-05-30 20:22:49.982984\n",
      "Milk / Sweet Stout\n",
      "2022-05-30 20:22:55.282271\n",
      "Schwarzbier\n",
      "2022-05-30 20:23:05.906097\n",
      "Munich Dunkel Lager\n",
      "2022-05-30 20:23:07.191544\n",
      "Vienna Lager\n",
      "2022-05-30 20:23:38.645438\n",
      "American Amber / Red Lager\n",
      "2022-05-30 20:23:48.398519\n",
      "Scottish Ale\n",
      "2022-05-30 20:23:51.347177\n",
      "Witbier\n",
      "2022-05-30 20:26:09.522388\n",
      "Saison / Farmhouse Ale\n",
      "2022-05-30 20:27:47.537531\n",
      "American Black Ale\n",
      "2022-05-30 20:27:56.313050\n",
      "English Brown Ale\n",
      "2022-05-30 20:28:56.076544\n",
      "English Barleywine\n",
      "2022-05-30 20:29:19.749374\n",
      "Extra Special / Strong Bitter (ESB)\n",
      "2022-05-30 20:29:37.422750\n",
      "California Common / Steam Beer\n",
      "2022-05-30 20:29:39.701669\n",
      "Euro Dark Lager\n",
      "2022-05-30 20:29:41.272497\n",
      "Scotch Ale / Wee Heavy\n",
      "2022-05-30 20:30:34.677170\n",
      "English Pale Ale\n",
      "2022-05-30 20:31:50.602156\n",
      "Belgian Strong Pale Ale\n",
      "2022-05-30 20:33:19.743694\n",
      "Belgian Pale Ale\n",
      "2022-05-30 20:34:12.255171\n",
      "Tripel\n",
      "2022-05-30 20:36:30.686191\n",
      "Flanders Oud Bruin\n",
      "2022-05-30 20:36:33.823452\n",
      "American Brown Ale\n",
      "2022-05-30 20:37:45.386783\n",
      "Smoked Beer\n",
      "2022-05-30 20:37:47.904745\n",
      "Dunkelweizen\n",
      "2022-05-30 20:37:51.122565\n",
      "Dubbel\n",
      "2022-05-30 20:38:55.340760\n",
      "Keller Bier / Zwickel Bier\n",
      "2022-05-30 20:38:56.584845\n",
      "Winter Warmer\n",
      "2022-05-30 20:40:00.337078\n",
      "Bi?e de Garde\n",
      "2022-05-30 20:40:04.724890\n",
      "Belgian Dark Ale\n",
      "2022-05-30 20:40:13.912270\n",
      "Irish Red Ale\n",
      "2022-05-30 20:40:22.859158\n",
      "Chile Beer\n",
      "2022-05-30 20:40:24.071719\n",
      "English Stout\n",
      "2022-05-30 20:40:24.883249\n",
      "Czech Pilsener\n",
      "2022-05-30 20:48:04.784899\n",
      "Belgian IPA\n",
      "2022-05-30 20:48:16.159629\n",
      "Black & Tan\n",
      "2022-05-30 20:48:16.537267\n",
      "Cream Ale\n",
      "2022-05-30 20:48:19.555239\n",
      "English Dark Mild Ale\n",
      "2022-05-30 20:48:20.226457\n",
      "American Wild Ale\n",
      "2022-05-30 20:48:43.898004\n",
      "Weizenbock\n",
      "2022-05-30 20:48:48.524842\n",
      "American Double / Imperial Pilsner\n",
      "2022-05-30 20:48:53.591505\n",
      "Scottish Gruit / Ancient Herbed Ale\n",
      "2022-05-30 20:48:53.938472\n",
      "Wheatwine\n",
      "2022-05-30 20:48:55.352246\n",
      "American Dark Wheat Ale\n",
      "2022-05-30 20:48:55.512050\n",
      "American Malt Liquor\n",
      "2022-05-30 20:48:57.943731\n",
      "Munich Helles Lager\n",
      "2022-05-30 20:49:03.595274\n",
      "Kristalweizen\n",
      "2022-05-30 20:49:03.887130\n",
      "English Pale Mild Ale\n",
      "2022-05-30 20:49:04.146315\n",
      "Baltic Porter\n",
      "2022-05-30 20:49:24.501420\n",
      "Old Ale\n",
      "2022-05-30 20:49:56.371170\n",
      "Quadrupel (Quad)\n",
      "2022-05-30 20:50:28.621691\n",
      "Braggot\n",
      "2022-05-30 20:50:28.974408\n",
      "Lambic - Fruit\n",
      "2022-05-30 20:50:56.758223\n",
      "Lambic - Unblended\n",
      "2022-05-30 20:50:57.800207\n",
      "Eisbock\n",
      "2022-05-30 20:50:58.100174\n",
      "Flanders Red Ale\n",
      "2022-05-30 20:51:04.672604\n",
      "Berliner Weissbier\n",
      "2022-05-30 20:51:05.564953\n",
      "Kvass\n",
      "2022-05-30 20:51:05.779906\n",
      "Roggenbier\n",
      "2022-05-30 20:51:05.994381\n",
      "Faro\n",
      "2022-05-30 20:51:06.115672\n",
      "Gueuze\n",
      "2022-05-30 20:51:09.252548\n",
      "Gose\n",
      "2022-05-30 20:51:09.433260\n",
      "Japanese Rice Lager\n",
      "2022-05-30 20:51:09.940919\n",
      "Happoshu\n",
      "2022-05-30 20:51:10.053770\n",
      "Sahti\n",
      "2022-05-30 20:51:10.254447\n",
      "Bi?e de Champagne / Bi?e Brut\n",
      "2022-05-30 20:51:10.857982\n"
     ]
    }
   ],
   "source": [
    "result = {}\n",
    "for i in range(len(beer_style)):\n",
    "    print(beer_style[i])\n",
    "    result[beer_style[i]] = clustering(beer_style_df_lst[i],'processed_review_text')\n",
    "    print(datetime.now())"
   ]
  },
  {
   "cell_type": "code",
   "execution_count": 111,
   "metadata": {},
   "outputs": [],
   "source": [
    "review_text_beer_style_ratings = pd.concat(result.values()).reset_index(drop=True)"
   ]
  },
  {
   "cell_type": "code",
   "execution_count": 129,
   "metadata": {},
   "outputs": [],
   "source": [
    "best_beers_review_text = review_text_beer_style_ratings.groupby(['beer_style'])['cluster_rating'].mean().reset_index().sort_values('cluster_rating', ascending=False).reset_index(drop=True)"
   ]
  },
  {
   "cell_type": "code",
   "execution_count": 119,
   "metadata": {},
   "outputs": [],
   "source": [
    "review_text_beer_style_ratings.to_csv('D:\\\\BeerDataScienceProject\\\\Cluster.csv')"
   ]
  },
  {
   "cell_type": "code",
   "execution_count": 130,
   "metadata": {},
   "outputs": [
    {
     "data": {
      "text/html": [
       "<div>\n",
       "<style scoped>\n",
       "    .dataframe tbody tr th:only-of-type {\n",
       "        vertical-align: middle;\n",
       "    }\n",
       "\n",
       "    .dataframe tbody tr th {\n",
       "        vertical-align: top;\n",
       "    }\n",
       "\n",
       "    .dataframe thead th {\n",
       "        text-align: right;\n",
       "    }\n",
       "</style>\n",
       "<table border=\"1\" class=\"dataframe\">\n",
       "  <thead>\n",
       "    <tr style=\"text-align: right;\">\n",
       "      <th></th>\n",
       "      <th>beer_style</th>\n",
       "      <th>cluster_rating</th>\n",
       "    </tr>\n",
       "  </thead>\n",
       "  <tbody>\n",
       "    <tr>\n",
       "      <th>0</th>\n",
       "      <td>Fruit / Vegetable Beer</td>\n",
       "      <td>3.952088</td>\n",
       "    </tr>\n",
       "    <tr>\n",
       "      <th>1</th>\n",
       "      <td>English Barleywine</td>\n",
       "      <td>3.768718</td>\n",
       "    </tr>\n",
       "    <tr>\n",
       "      <th>2</th>\n",
       "      <td>California Common / Steam Beer</td>\n",
       "      <td>3.739782</td>\n",
       "    </tr>\n",
       "    <tr>\n",
       "      <th>3</th>\n",
       "      <td>English Brown Ale</td>\n",
       "      <td>3.739744</td>\n",
       "    </tr>\n",
       "    <tr>\n",
       "      <th>4</th>\n",
       "      <td>American Double / Imperial IPA</td>\n",
       "      <td>3.709791</td>\n",
       "    </tr>\n",
       "    <tr>\n",
       "      <th>...</th>\n",
       "      <td>...</td>\n",
       "      <td>...</td>\n",
       "    </tr>\n",
       "    <tr>\n",
       "      <th>99</th>\n",
       "      <td>American Pale Lager</td>\n",
       "      <td>3.000000</td>\n",
       "    </tr>\n",
       "    <tr>\n",
       "      <th>100</th>\n",
       "      <td>Belgian Strong Pale Ale</td>\n",
       "      <td>3.000000</td>\n",
       "    </tr>\n",
       "    <tr>\n",
       "      <th>101</th>\n",
       "      <td>Japanese Rice Lager</td>\n",
       "      <td>3.000000</td>\n",
       "    </tr>\n",
       "    <tr>\n",
       "      <th>102</th>\n",
       "      <td>Foreign / Export Stout</td>\n",
       "      <td>2.766045</td>\n",
       "    </tr>\n",
       "    <tr>\n",
       "      <th>103</th>\n",
       "      <td>Light Lager</td>\n",
       "      <td>2.746519</td>\n",
       "    </tr>\n",
       "  </tbody>\n",
       "</table>\n",
       "<p>104 rows × 2 columns</p>\n",
       "</div>"
      ],
      "text/plain": [
       "                         beer_style  cluster_rating\n",
       "0            Fruit / Vegetable Beer        3.952088\n",
       "1                English Barleywine        3.768718\n",
       "2    California Common / Steam Beer        3.739782\n",
       "3                 English Brown Ale        3.739744\n",
       "4    American Double / Imperial IPA        3.709791\n",
       "..                              ...             ...\n",
       "99              American Pale Lager        3.000000\n",
       "100         Belgian Strong Pale Ale        3.000000\n",
       "101             Japanese Rice Lager        3.000000\n",
       "102          Foreign / Export Stout        2.766045\n",
       "103                     Light Lager        2.746519\n",
       "\n",
       "[104 rows x 2 columns]"
      ]
     },
     "execution_count": 130,
     "metadata": {},
     "output_type": "execute_result"
    }
   ],
   "source": [
    "best_beers_review_text"
   ]
  },
  {
   "cell_type": "markdown",
   "metadata": {},
   "source": [
    "# How does written review compare to overall review score for the beer styles?"
   ]
  },
  {
   "cell_type": "code",
   "execution_count": 127,
   "metadata": {},
   "outputs": [
    {
     "data": {
      "text/html": [
       "<div>\n",
       "<style scoped>\n",
       "    .dataframe tbody tr th:only-of-type {\n",
       "        vertical-align: middle;\n",
       "    }\n",
       "\n",
       "    .dataframe tbody tr th {\n",
       "        vertical-align: top;\n",
       "    }\n",
       "\n",
       "    .dataframe thead th {\n",
       "        text-align: right;\n",
       "    }\n",
       "</style>\n",
       "<table border=\"1\" class=\"dataframe\">\n",
       "  <thead>\n",
       "    <tr style=\"text-align: right;\">\n",
       "      <th></th>\n",
       "      <th>beer_style</th>\n",
       "      <th>review_overall</th>\n",
       "    </tr>\n",
       "  </thead>\n",
       "  <tbody>\n",
       "    <tr>\n",
       "      <th>63</th>\n",
       "      <td>Gueuze</td>\n",
       "      <td>4.140724</td>\n",
       "    </tr>\n",
       "    <tr>\n",
       "      <th>27</th>\n",
       "      <td>Berliner Weissbier</td>\n",
       "      <td>4.122556</td>\n",
       "    </tr>\n",
       "    <tr>\n",
       "      <th>11</th>\n",
       "      <td>American Double / Imperial Stout</td>\n",
       "      <td>4.100332</td>\n",
       "    </tr>\n",
       "    <tr>\n",
       "      <th>83</th>\n",
       "      <td>Oatmeal Stout</td>\n",
       "      <td>4.094637</td>\n",
       "    </tr>\n",
       "    <tr>\n",
       "      <th>41</th>\n",
       "      <td>Eisbock</td>\n",
       "      <td>4.082474</td>\n",
       "    </tr>\n",
       "    <tr>\n",
       "      <th>...</th>\n",
       "      <td>...</td>\n",
       "      <td>...</td>\n",
       "    </tr>\n",
       "    <tr>\n",
       "      <th>76</th>\n",
       "      <td>Light Lager</td>\n",
       "      <td>2.920787</td>\n",
       "    </tr>\n",
       "    <tr>\n",
       "      <th>64</th>\n",
       "      <td>Happoshu</td>\n",
       "      <td>2.818182</td>\n",
       "    </tr>\n",
       "    <tr>\n",
       "      <th>54</th>\n",
       "      <td>Euro Strong Lager</td>\n",
       "      <td>2.807423</td>\n",
       "    </tr>\n",
       "    <tr>\n",
       "      <th>13</th>\n",
       "      <td>American Malt Liquor</td>\n",
       "      <td>2.724702</td>\n",
       "    </tr>\n",
       "    <tr>\n",
       "      <th>77</th>\n",
       "      <td>Low Alcohol Beer</td>\n",
       "      <td>2.582759</td>\n",
       "    </tr>\n",
       "  </tbody>\n",
       "</table>\n",
       "<p>104 rows × 2 columns</p>\n",
       "</div>"
      ],
      "text/plain": [
       "                          beer_style  review_overall\n",
       "63                            Gueuze        4.140724\n",
       "27                Berliner Weissbier        4.122556\n",
       "11  American Double / Imperial Stout        4.100332\n",
       "83                     Oatmeal Stout        4.094637\n",
       "41                           Eisbock        4.082474\n",
       "..                               ...             ...\n",
       "76                       Light Lager        2.920787\n",
       "64                          Happoshu        2.818182\n",
       "54                 Euro Strong Lager        2.807423\n",
       "13              American Malt Liquor        2.724702\n",
       "77                  Low Alcohol Beer        2.582759\n",
       "\n",
       "[104 rows x 2 columns]"
      ]
     },
     "execution_count": 127,
     "metadata": {},
     "output_type": "execute_result"
    }
   ],
   "source": [
    "beer_style_groupby_overall_ratings = beer_data.groupby(['beer_style'])['review_overall'].mean().reset_index()\n",
    "beer_style_groupby_overall_ratings.sort_values('review_overall', ascending=False)"
   ]
  },
  {
   "cell_type": "code",
   "execution_count": 143,
   "metadata": {},
   "outputs": [
    {
     "data": {
      "image/png": "[encoded data removed]",
      "text/plain": [
       "<Figure size 3600x3600 with 1 Axes>"
      ]
     },
     "metadata": {
      "needs_background": "light"
     },
     "output_type": "display_data"
    }
   ],
   "source": [
    "ratings_comparison = best_beers_review_text.merge(beer_style_groupby_overall_ratings).rename(columns = {'cluster_rating':'written_review_ratings'})\n",
    "ratings_comparison.plot(x = 'beer_style', kind='bar', figsize=(50,50), title='comparison')\n",
    "plt.savefig(\"D:\\\\BeerDataScienceProject\\\\Ratings_comparison.png\")"
   ]
  },
  {
   "cell_type": "code",
   "execution_count": 165,
   "metadata": {},
   "outputs": [
    {
     "data": {
      "image/png": "[encoded data removed]",
      "text/plain": [
       "<Figure size 432x288 with 1 Axes>"
      ]
     },
     "metadata": {
      "needs_background": "light"
     },
     "output_type": "display_data"
    }
   ],
   "source": [
    "ratings_comparison['Difference'] = ratings_comparison['written_review_ratings'] - ratings_comparison['review_overall']\n",
    "ratings_comparison.plot(x ='written_review_ratings', y='review_overall', kind='scatter', title='Difference in comparison')\n",
    "plt.savefig(\"D:\\\\BeerDataScienceProject\\\\Difference_comparison.png\")"
   ]
  },
  {
   "cell_type": "markdown",
   "metadata": {},
   "source": [
    "#### The Difference between the text reviews and the overall reviews are vary much. Beers which got lower ratings were given a bad review but the discrepancy occurs when the review written by the user is mediocre but the ratings is higher. This could be due to the fact that user tend to give higher ratings overall but tend to be very critical while writing a review"
   ]
  }
 ],
 "metadata": {
  "kernelspec": {
   "display_name": "Python 3",
   "language": "python",
   "name": "python3"
  },
  "language_info": {
   "codemirror_mode": {
    "name": "ipython",
    "version": 3
   },
   "file_extension": ".py",
   "mimetype": "text/x-python",
   "name": "python",
   "nbconvert_exporter": "python",
   "pygments_lexer": "ipython3",
   "version": "3.8.5"
  }
 },
 "nbformat": 4,
 "nbformat_minor": 4
}
